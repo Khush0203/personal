{
 "cells": [
  {
   "cell_type": "markdown",
   "id": "1929e78f",
   "metadata": {},
   "source": [
    "# OPENCV2"
   ]
  },
  {
   "cell_type": "markdown",
   "id": "b75f4fcf",
   "metadata": {},
   "source": [
    "scanning and showing the picture"
   ]
  },
  {
   "cell_type": "code",
   "execution_count": 4,
   "id": "191470d1",
   "metadata": {
    "scrolled": false
   },
   "outputs": [
    {
     "data": {
      "text/plain": [
       "-1"
      ]
     },
     "execution_count": 4,
     "metadata": {},
     "output_type": "execute_result"
    }
   ],
   "source": [
    "import cv2\n",
    "#importing package\n",
    "\n",
    "file = cv2.imread(r\"C:\\Users\\Suneetha\\Desktop\\pics res\\IMG_1171.jpg\")\n",
    "#giving location of file you want to open or read cv2.imread() is the function to read a file\n",
    "\n",
    "cv2.imshow(\"Khush\",file) \n",
    "#2 parameters first one is the title of the window and second one is the variable that reads and contains the picture\n",
    "cv2.waitKey(0)\n",
    "#showing the file"
   ]
  },
  {
   "cell_type": "markdown",
   "id": "2f737b3d",
   "metadata": {},
   "source": [
    "scanning and showing video"
   ]
  },
  {
   "cell_type": "code",
   "execution_count": 1,
   "id": "fea165e7",
   "metadata": {},
   "outputs": [
    {
     "ename": "error",
     "evalue": "OpenCV(4.5.3) C:\\Users\\runneradmin\\AppData\\Local\\Temp\\pip-req-build-q3d_8t8e\\opencv\\modules\\imgproc\\src\\color.cpp:182: error: (-215:Assertion failed) !_src.empty() in function 'cv::cvtColor'\n",
     "output_type": "error",
     "traceback": [
      "\u001b[1;31m---------------------------------------------------------------------------\u001b[0m",
      "\u001b[1;31merror\u001b[0m                                     Traceback (most recent call last)",
      "\u001b[1;32m<ipython-input-1-2d46829a1acd>\u001b[0m in \u001b[0;36m<module>\u001b[1;34m\u001b[0m\n\u001b[0;32m      7\u001b[0m     \u001b[0msucceess\u001b[0m\u001b[1;33m,\u001b[0m \u001b[0mvid\u001b[0m \u001b[1;33m=\u001b[0m \u001b[0mfile\u001b[0m\u001b[1;33m.\u001b[0m\u001b[0mread\u001b[0m\u001b[1;33m(\u001b[0m\u001b[1;33m)\u001b[0m\u001b[1;33m\u001b[0m\u001b[1;33m\u001b[0m\u001b[0m\n\u001b[0;32m      8\u001b[0m \u001b[1;31m#read the file\u001b[0m\u001b[1;33m\u001b[0m\u001b[1;33m\u001b[0m\u001b[1;33m\u001b[0m\u001b[0m\n\u001b[1;32m----> 9\u001b[1;33m     \u001b[0mcv2\u001b[0m\u001b[1;33m.\u001b[0m\u001b[0mimshow\u001b[0m\u001b[1;33m(\u001b[0m\u001b[1;34m\"Khush\"\u001b[0m\u001b[1;33m,\u001b[0m\u001b[0mvid\u001b[0m\u001b[1;33m)\u001b[0m\u001b[1;33m\u001b[0m\u001b[1;33m\u001b[0m\u001b[0m\n\u001b[0m\u001b[0;32m     10\u001b[0m \u001b[1;31m#show the file\u001b[0m\u001b[1;33m\u001b[0m\u001b[1;33m\u001b[0m\u001b[1;33m\u001b[0m\u001b[0m\n\u001b[0;32m     11\u001b[0m     \u001b[1;32mif\u001b[0m \u001b[0mcv2\u001b[0m\u001b[1;33m.\u001b[0m\u001b[0mwaitKey\u001b[0m\u001b[1;33m(\u001b[0m\u001b[1;36m10\u001b[0m\u001b[1;33m)\u001b[0m \u001b[1;33m&\u001b[0m \u001b[1;36m0xFF\u001b[0m \u001b[1;33m==\u001b[0m \u001b[0mord\u001b[0m\u001b[1;33m(\u001b[0m\u001b[1;34m\"q\"\u001b[0m\u001b[1;33m)\u001b[0m\u001b[1;33m:\u001b[0m\u001b[1;33m\u001b[0m\u001b[1;33m\u001b[0m\u001b[0m\n",
      "\u001b[1;31merror\u001b[0m: OpenCV(4.5.3) C:\\Users\\runneradmin\\AppData\\Local\\Temp\\pip-req-build-q3d_8t8e\\opencv\\modules\\imgproc\\src\\color.cpp:182: error: (-215:Assertion failed) !_src.empty() in function 'cv::cvtColor'\n"
     ]
    }
   ],
   "source": [
    "import cv2\n",
    "\n",
    "file = cv2.VideoCapture(r\"C:\\Users\\Suneetha\\Desktop\\pics res\\New folder\\WhatsApp Video 2021-07-31 at 5.45.34 PM.mp4\")\n",
    "#giving location of file \n",
    "\n",
    "while True:\n",
    "    succeess, vid = file.read()\n",
    "#read the file\n",
    "    cv2.imshow(\"Khush\",vid)\n",
    "#show the file\n",
    "    if cv2.waitKey(10) & 0xFF == ord(\"q\"): \n",
    "#if q is entered on keyboard then break\n",
    "        break\n",
    "        \n",
    "#it breaks if q is entered"
   ]
  },
  {
   "cell_type": "code",
   "execution_count": null,
   "id": "a5c0a2fe",
   "metadata": {},
   "outputs": [],
   "source": []
  },
  {
   "cell_type": "code",
   "execution_count": null,
   "id": "36b690a2",
   "metadata": {},
   "outputs": [],
   "source": [
    "import cv2\n",
    "\n",
    "file = cv2.VideoCapture(0)\n",
    "#open camera\n",
    "file.set(3,480)\n",
    "#height\n",
    "file.set(4,480)\n",
    "#width\n",
    "file.set(10,100)\n",
    "#brightness\n",
    "\n",
    "while True:\n",
    "    succeess, vid = file.read()\n",
    "#read the cam\n",
    "    cv2.imshow(\"Khush\",vid)\n",
    "#show the cam\n",
    "    if cv2.waitKey(10) & 0xFF == ord(\"q\"): \n",
    "#if q is entered on keyboard then break\n",
    "        break\n",
    "        \n",
    "#it breaks if q is entered"
   ]
  }
 ],
 "metadata": {
  "kernelspec": {
   "display_name": "Python 3",
   "language": "python",
   "name": "python3"
  },
  "language_info": {
   "codemirror_mode": {
    "name": "ipython",
    "version": 3
   },
   "file_extension": ".py",
   "mimetype": "text/x-python",
   "name": "python",
   "nbconvert_exporter": "python",
   "pygments_lexer": "ipython3",
   "version": "3.8.8"
  }
 },
 "nbformat": 4,
 "nbformat_minor": 5
}
