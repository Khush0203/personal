{
 "cells": [
  {
   "cell_type": "markdown",
   "id": "fd5175d4",
   "metadata": {},
   "source": [
    "# Clasification"
   ]
  },
  {
   "cell_type": "markdown",
   "id": "4e7e7a9b",
   "metadata": {},
   "source": [
    "# KNN"
   ]
  },
  {
   "cell_type": "code",
   "execution_count": 1,
   "id": "7a6db0bb",
   "metadata": {},
   "outputs": [
    {
     "name": "stdout",
     "output_type": "stream",
     "text": [
      "[1 1 1 1]\n"
     ]
    }
   ],
   "source": [
    "\n",
    "#Giving the machine an example\n",
    "X = [[0],[1],[2],[3]]\n",
    "y = [0,0,1,1]\n",
    "\n",
    "#importing libraries\n",
    "from sklearn.neighbors import KNeighborsClassifier  \n",
    "# from sklearn.neighbors import accuracy_score  \n",
    "\n",
    "#checking\n",
    "#remember n_neighbors should be <= samples\n",
    "classifier= KNeighborsClassifier(n_neighbors=3)  \n",
    "classifier.fit(X, y)  \n",
    "\n",
    "#print the predictions\n",
    "print(classifier.predict([[1.501],[15],[20],[4.0]]))"
   ]
  },
  {
   "cell_type": "markdown",
   "id": "f403cb83",
   "metadata": {},
   "source": [
    "Classification is supervised learning \n",
    "First you train your model \n",
    "Then you test it\n",
    "\n",
    "\n",
    "\n",
    "\n",
    "to check accuracy\n",
    "\n",
    "from sklearn.neighbors import accuracy_score  \n",
    "accuracy_score(true dataset, pred data set\n"
   ]
  },
  {
   "cell_type": "markdown",
   "id": "53d12509",
   "metadata": {},
   "source": [
    "# SVM"
   ]
  },
  {
   "cell_type": "code",
   "execution_count": 5,
   "id": "f9053cff",
   "metadata": {},
   "outputs": [
    {
     "name": "stdout",
     "output_type": "stream",
     "text": [
      "Prediction: [2]\n"
     ]
    }
   ],
   "source": [
    "#importing packages\n",
    "import numpy as np\n",
    "\n",
    "#creating training data set\n",
    "X = np.array([[-1,-1],[-2,-1],[1,1],[2,1]])\n",
    "y = np.array([1,1,2,2])\n",
    "\n",
    "#importing ML package\n",
    "from sklearn.svm import SVC\n",
    "classification = SVC()\n",
    "\n",
    "#passing dataset\n",
    "classification.fit(X,y)\n",
    "\n",
    "#testing dataset\n",
    "test = np.array([[0.8,-1]])\n",
    "\n",
    "#predicting \n",
    "pred = classification.predict(test)\n",
    "\n",
    "\n",
    "#printing prediction\n",
    "print(\"Prediction:\",pred)\n"
   ]
  }
 ],
 "metadata": {
  "kernelspec": {
   "display_name": "Python 3",
   "language": "python",
   "name": "python3"
  },
  "language_info": {
   "codemirror_mode": {
    "name": "ipython",
    "version": 3
   },
   "file_extension": ".py",
   "mimetype": "text/x-python",
   "name": "python",
   "nbconvert_exporter": "python",
   "pygments_lexer": "ipython3",
   "version": "3.8.8"
  }
 },
 "nbformat": 4,
 "nbformat_minor": 5
}
